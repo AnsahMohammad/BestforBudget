{
 "cells": [
  {
   "cell_type": "code",
   "execution_count": 1,
   "metadata": {},
   "outputs": [],
   "source": [
    "databasePencil = [\n",
    "    [\"Pencil\",1,20,4.5],[\"PencilXD\",3,25,4.9],[\"PencilDas\",7,13,4.0],[\"Pencil47\",2,117,4.3]\n",
    "]\n",
    "# database pencil = name,code,price,rating\n",
    "\n",
    "rating = 1\n",
    "budget = 20"
   ]
  },
  {
   "cell_type": "code",
   "execution_count": 5,
   "metadata": {},
   "outputs": [
    {
     "name": "stdout",
     "output_type": "stream",
     "text": [
      "[['Pencil', 1, 20, 4.5], ['PencilDas', 7, 13, 4.0]]\n"
     ]
    }
   ],
   "source": [
    "k = []\n",
    "\n",
    "for i in databasePencil:\n",
    "    if i[2]<= budget:\n",
    "        k.append(i)\n",
    "\n",
    "k.sort()\n",
    "print(k)"
   ]
  },
  {
   "cell_type": "code",
   "execution_count": 7,
   "metadata": {},
   "outputs": [
    {
     "name": "stdout",
     "output_type": "stream",
     "text": [
      "[['Pencil', 1, 20, 4.5], ['PencilXD', 3, 25, 4.9], ['PencilDas', 7, 13, 4.0], ['Pencil47', 2, 117, 4.3], ['Pen3', 56, 123, 4.6], ['Pen3', 50, 100, 4.9], ['Pen3', 58, 183, 4.0]]\n"
     ]
    }
   ],
   "source": [
    "database = [\n",
    "    [[\"Pencil\",1,20,4.5],[\"PencilXD\",3,25,4.9],[\"PencilDas\",7,13,4.0],[\"Pencil47\",2,117,4.3]],\n",
    "    [[\"Pen3\",56,123,4.6],[\"Pen3\",50,100,4.9],[\"Pen3\",58,183,4.0]]\n",
    "]\n",
    "\n",
    "budget = 300\n",
    "items = [0,1]\n",
    "k = [[0]]\n",
    "#selecting items\n",
    "for i in range(len(database)):\n",
    "    if i in items:\n",
    "        for j in database[i]:\n",
    "            if j[2]<budget:\n",
    "                k[i].append(j)\n",
    "\n",
    "print(k)\n",
    "\n",
    "#choosing best product;\n",
    "j = []\n"
   ]
  },
  {
   "cell_type": "code",
   "execution_count": null,
   "metadata": {},
   "outputs": [],
   "source": []
  }
 ],
 "metadata": {
  "interpreter": {
   "hash": "9303b8bcab17a669654b167c8d3a2c8a21a90a4f2416413e830d937fd9b93bf8"
  },
  "kernelspec": {
   "display_name": "Python 3.9.5 64-bit",
   "language": "python",
   "name": "python3"
  },
  "language_info": {
   "codemirror_mode": {
    "name": "ipython",
    "version": 3
   },
   "file_extension": ".py",
   "mimetype": "text/x-python",
   "name": "python",
   "nbconvert_exporter": "python",
   "pygments_lexer": "ipython3",
   "version": "3.9.5"
  },
  "orig_nbformat": 4
 },
 "nbformat": 4,
 "nbformat_minor": 2
}
